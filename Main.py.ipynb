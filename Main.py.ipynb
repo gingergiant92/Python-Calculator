{
 "cells":[
  {
   "cell_type":"code",
   "source":[
    "import re\n",
    "\n",
    "print(\"Our Calculator\")\n",
    "print(\"Type 'quit' to exit\")\n",
    "\n",
    "previous = 0\n",
    "run = True\n",
    "\n",
    "def performMath():\n",
    "    global run\n",
    "    global previous\n",
    "    equation = \"\"\n",
    "    if previous == 0:\n",
    "        equation = input(\"Enter equation:\")\n",
    "    else:\n",
    "        equation = input(str(previous))\n",
    "\n",
    "    if equation == 'quit':\n",
    "        print(\"Goodbye Human\")\n",
    "        run= False\n",
    "    else:\n",
    "        equation = re.sub('[a-zA-Z,.:()\" \"]','',equation)\n",
    "            \n",
    "        if previous == 0:\n",
    "            previous = eval(equation)\n",
    "        else:\n",
    "            previous = eval(str(previous)+equation)\n",
    "\n",
    "\n",
    "\n",
    "while run:\n",
    "    performMath()"
   ],
   "execution_count":17,
   "outputs":[
    {
     "name":"stdout",
     "text":[
      "Our Calculator\n",
      "Type 'quit' to exit\n",
      "Enter equation: quit\n",
      "Goodbye Human\n"
     ],
     "output_type":"stream"
    }
   ],
   "metadata":{
    "datalore":{
     "type":"CODE",
     "hide_input_from_viewers":false,
     "hide_output_from_viewers":false
    }
   }
  },
  {
   "cell_type":"code",
   "source":[
    
   ],
   "execution_count":null,
   "outputs":[
    
   ],
   "metadata":{
    "datalore":{
     "type":"CODE",
     "hide_input_from_viewers":false,
     "hide_output_from_viewers":false
    }
   }
  }
 ],
 "metadata":{
  "datalore":{
   "version":1,
   "computation_mode":"JUPYTER",
   "package_manager":"pip",
   "base_environment":"default",
   "packages":[
    
   ]
  }
 },
 "nbformat":4,
 "nbformat_minor":4
}